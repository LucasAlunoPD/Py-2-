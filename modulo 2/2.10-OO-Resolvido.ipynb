{
 "cells": [
  {
   "cell_type": "markdown",
   "id": "ed964796",
   "metadata": {},
   "source": [
    "# Exercício 2.10 - Orientação a Objetos (OO)\n",
    "\n",
    "Solução completa com testes para as classes solicitadas: `EventoABC`, `DataHora`, `EventoUnico` e `EventoRecorrente`."
   ]
  },
  {
   "cell_type": "code",
   "execution_count": null,
   "id": "38b94de4",
   "metadata": {},
   "outputs": [],
   "source": [
    "\n",
    "from abc import ABC, abstractmethod\n",
    "from datetime import datetime, timedelta\n",
    "\n",
    "class EventoABC(ABC):\n",
    "    def __init__(self, titulo: str, descricao: str):\n",
    "        # atributos \"privados\" por convenção\n",
    "        self._titulo = titulo\n",
    "        self._descricao = descricao\n",
    "\n",
    "    @abstractmethod\n",
    "    def __str__(self):\n",
    "        pass\n",
    "\n",
    "    @abstractmethod\n",
    "    def isConcluido(self, *args, **kwargs):\n",
    "        pass\n"
   ]
  },
  {
   "cell_type": "markdown",
   "id": "e76c5c2d",
   "metadata": {},
   "source": [
    "## Classe DataHora\n",
    "\n",
    "- Atributo privado `_data_hora` do tipo `datetime`.\n",
    "- Atributo de classe `FORMAT` = '%d/%m/%Y, %H:%M'.\n",
    "- `data_hora` como property (getter retorna string formatada; setter recebe string e converte)."
   ]
  },
  {
   "cell_type": "code",
   "execution_count": null,
   "id": "cf241b6e",
   "metadata": {},
   "outputs": [],
   "source": [
    "\n",
    "class DataHora:\n",
    "    FORMAT = '%d/%m/%Y, %H:%M'\n",
    "\n",
    "    def __init__(self):\n",
    "        self._data_hora = None  # iniciado como None\n",
    "\n",
    "    @property\n",
    "    def data_hora(self):\n",
    "        # retorna string formatada ou None\n",
    "        if self._data_hora is None:\n",
    "            return None\n",
    "        return self._data_hora.strftime(self.FORMAT)\n",
    "\n",
    "    @data_hora.setter\n",
    "    def data_hora(self, valor_str):\n",
    "        # valor_str deve ser string no formato especificado\n",
    "        try:\n",
    "            parsed = datetime.strptime(valor_str, self.FORMAT)\n",
    "            self._data_hora = parsed\n",
    "        except Exception as e:\n",
    "            raise ValueError(f\"Formato inválido para data_hora. Use '{self.FORMAT}'. Erro: {e}\")\n",
    "\n",
    "    def isPassado(self):\n",
    "        if self._data_hora is None:\n",
    "            return False\n",
    "        return self._data_hora < datetime.now()\n",
    "\n",
    "    def somaDias(self, num_dias: int):\n",
    "        if self._data_hora is None:\n",
    "            raise ValueError(\"data_hora não definida.\")\n",
    "        data_hora_somada = self._data_hora + timedelta(days=num_dias)\n",
    "        return data_hora_somada.strftime(self.FORMAT)\n"
   ]
  },
  {
   "cell_type": "markdown",
   "id": "6cb9bf28",
   "metadata": {},
   "source": [
    "### Teste da classe DataHora"
   ]
  },
  {
   "cell_type": "code",
   "execution_count": null,
   "id": "68f1dda2",
   "metadata": {},
   "outputs": [],
   "source": [
    "\n",
    "# instanciando o objeto\n",
    "dh = DataHora()\n",
    "\n",
    "# definindo a data_hora através da propriedade\n",
    "dh.data_hora = '05/02/2024, 12:30'\n",
    "print('Definido:', dh.data_hora)\n",
    "\n",
    "# editando a data_hora através da função somaDias\n",
    "dh.data_hora = dh.somaDias(30)\n",
    "print('Após somaDias(30):', dh.data_hora, 'isPassado?', dh.isPassado())\n"
   ]
  },
  {
   "cell_type": "markdown",
   "id": "fcfee763",
   "metadata": {},
   "source": [
    "## Classe EventoUnico\n",
    "\n",
    "- Herda de `EventoABC`.\n",
    "- Possui `_data_hora` do tipo `DataHora`.\n",
    "- Construtor recebe título, descrição e data (string) e inicializa a propriedade interna do `DataHora`.\n",
    "- Implementa `isConcluido()` e `__str__()`.\n",
    "- Método `editar_data_hora()` para alterar a data."
   ]
  },
  {
   "cell_type": "code",
   "execution_count": null,
   "id": "ff9999c2",
   "metadata": {},
   "outputs": [],
   "source": [
    "\n",
    "class EventoUnico(EventoABC):\n",
    "    def __init__(self, titulo: str, descricao: str, data_hora_str: str):\n",
    "        super().__init__(titulo, descricao)\n",
    "        self._data_hora = DataHora()\n",
    "        # usa a propriedade para validar/armazenar\n",
    "        self._data_hora.data_hora = data_hora_str\n",
    "\n",
    "    def isConcluido(self):\n",
    "        return self._data_hora.isPassado()\n",
    "\n",
    "    def editar_data_hora(self, nova_data_str: str):\n",
    "        self._data_hora.data_hora = nova_data_str\n",
    "\n",
    "    def __str__(self):\n",
    "        return f\"Evento: {self._titulo}, Data: {self._data_hora.data_hora}, Descrição: {self._descricao}, Concluido: {self.isConcluido()}\"\n"
   ]
  },
  {
   "cell_type": "markdown",
   "id": "a70d7894",
   "metadata": {},
   "source": [
    "### Teste da classe EventoUnico"
   ]
  },
  {
   "cell_type": "code",
   "execution_count": null,
   "id": "26d1a4d4",
   "metadata": {},
   "outputs": [],
   "source": [
    "\n",
    "# criar evento\n",
    "evento = EventoUnico('Reunião', 'Sala 302, prédio da esquina', '05/10/2023, 16:30')\n",
    "print(evento)\n",
    "\n",
    "# editar data do evento (através da propriedade)\n",
    "evento.editar_data_hora('05/10/2024, 16:30')\n",
    "print(evento)\n"
   ]
  },
  {
   "cell_type": "markdown",
   "id": "b22b395a",
   "metadata": {},
   "source": [
    "## Classe EventoRecorrente\n",
    "\n",
    "- Herda de `EventoABC`.\n",
    "- Mantém uma lista privada de objetos `DataHora`.\n",
    "- Construtor recebe data_hora_inicial, data_hora_final e intervalo_repeticao (dias) e preenche a coleção.\n",
    "- Implementa `isConcluido(indice)` e `__str__()` que imprime todas as ocorrências.\n",
    "- `editar_data_hora(data_hora_antiga, data_hora_nova)` altera o elemento correspondente."
   ]
  },
  {
   "cell_type": "code",
   "execution_count": null,
   "id": "d42ffb14",
   "metadata": {},
   "outputs": [],
   "source": [
    "\n",
    "class EventoRecorrente(EventoABC):\n",
    "    def __init__(self, titulo: str, descricao: str,\n",
    "                 data_hora_inicial: str, data_hora_final: str, intervalo_repeticao: int):\n",
    "        super().__init__(titulo, descricao)\n",
    "        # lista privada de DataHora\n",
    "        self._datas = []\n",
    "\n",
    "        # criar DataHora inicial e final temporários para controle\n",
    "        dh_inicial = DataHora()\n",
    "        dh_inicial.data_hora = data_hora_inicial\n",
    "\n",
    "        dh_final = DataHora()\n",
    "        dh_final.data_hora = data_hora_final\n",
    "\n",
    "        # adiciona ocorrências a cada intervalo_repeticao dias (inclusive a inicial; se final coincidir, inclui)\n",
    "        atual = dh_inicial._data_hora  # datetime interno\n",
    "        final_dt = dh_final._data_hora\n",
    "\n",
    "        while atual <= final_dt:\n",
    "            dh = DataHora()\n",
    "            dh._data_hora = atual  # atribuir diretamente o datetime\n",
    "            self._datas.append(dh)\n",
    "            atual = atual + timedelta(days=intervalo_repeticao)\n",
    "\n",
    "    def isConcluido(self, indice: int):\n",
    "        if indice < 0 or indice >= len(self._datas):\n",
    "            raise IndexError('Índice fora do intervalo de ocorrências.')\n",
    "        return self._datas[indice].isPassado()\n",
    "\n",
    "    def editar_data_hora(self, data_hora_antiga: str, data_hora_nova: str):\n",
    "        # encontra o índice que corresponde à data_hora_antiga (string formatada)\n",
    "        encontrado = False\n",
    "        for i, dh in enumerate(self._datas):\n",
    "            if dh.data_hora == data_hora_antiga:\n",
    "                # atualiza usando a propriedade\n",
    "                dh.data_hora = data_hora_nova\n",
    "                encontrado = True\n",
    "                break\n",
    "        if not encontrado:\n",
    "            raise ValueError('data_hora_antiga não encontrada nas ocorrências.')\n",
    "\n",
    "    def __str__(self):\n",
    "        linhas = []\n",
    "        for i, dh in enumerate(self._datas):\n",
    "            linhas.append(f\"Evento: {self._titulo}, Data: {dh.data_hora}, Descrição: {self._descricao}, Concluido: {self.isConcluido(i)}\")\n",
    "        return \"\\n\".join(linhas)\n"
   ]
  },
  {
   "cell_type": "markdown",
   "id": "d0388083",
   "metadata": {},
   "source": [
    "### Teste da classe EventoRecorrente"
   ]
  },
  {
   "cell_type": "code",
   "execution_count": null,
   "id": "ab64f41e",
   "metadata": {},
   "outputs": [],
   "source": [
    "\n",
    "# criar evento recorrente\n",
    "eventos = EventoRecorrente(\n",
    "    'Reunião', 'Sala 302, prédio da esquina',\n",
    "    '05/01/2024, 16:30', '05/01/2025, 16:30', 30)\n",
    "\n",
    "# imprimir eventos\n",
    "print(eventos)\n",
    "\n",
    "# editar um dos eventos\n",
    "eventos.editar_data_hora('05/12/2024, 16:30', '05/12/2024, 11:30')\n",
    "\n",
    "# imprimir eventos após edição\n",
    "print('\\n--- Após edição ---\\n')\n",
    "print(eventos)\n"
   ]
  },
  {
   "cell_type": "markdown",
   "id": "5a1009b9",
   "metadata": {},
   "source": [
    "## Polimorfismo: lista mista de eventos\n",
    "\n",
    "Criamos uma lista com `EventoUnico` e `EventoRecorrente` e imprimimos todos usando `print()`, demonstrando polimorfismo."
   ]
  },
  {
   "cell_type": "code",
   "execution_count": null,
   "id": "2d44c2db",
   "metadata": {},
   "outputs": [],
   "source": [
    "\n",
    "# Criando lista de eventos\n",
    "lista_eventos = [\n",
    "    EventoUnico('Apresentação', 'Auditório', '10/10/2024, 09:00'),\n",
    "    eventos,  # EventoRecorrente criado antes\n",
    "    EventoUnico('Entrevista', 'Sala RH', '01/11/2024, 14:00')\n",
    "]\n",
    "\n",
    "# imprimir todos os eventos (polimorfismo: cada __str__ é chamado conforme o tipo)\n",
    "for evento in lista_eventos:\n",
    "    print('\\n--- Evento ---\\n')\n",
    "    print(evento)\n"
   ]
  }
 ],
 "metadata": {},
 "nbformat": 4,
 "nbformat_minor": 5
}
